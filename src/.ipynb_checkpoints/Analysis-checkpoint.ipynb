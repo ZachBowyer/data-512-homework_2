{
 "cells": [
  {
   "cell_type": "markdown",
   "id": "45072ad7",
   "metadata": {},
   "source": [
    "# This notebook serves as the executable software that reads in datasets, combines datasets, and runs data analysis\n",
    "\n",
    "The end goal is to perform analysis on how the coverage of US cities on wikipedia and how the quality of articles about cities varies among states. \n",
    "\n",
    "Steps: \n",
    "1. Confirm datasets are ready to go.\n",
    "1. Combine dataset of wikipedia articles with a dataset of state populations\n",
    "2. Use ORES to estiamte quality of articles about the cities\n",
    "3. Data analyis\n",
    "   3a. The states with the greatest and least coverage of cities on Wikipedia compared  \n",
    "       to their population.\n",
    "   3b. The states with the highest and lowest proportion of high quality articles about cities.\n",
    "   3c. A ranking of US geographic regions by articles-per-person and proportion of high \n",
    "       quality articles.\n",
    "\n"
   ]
  },
  {
   "cell_type": "markdown",
   "id": "0e098f57",
   "metadata": {},
   "source": [
    "# Import packages"
   ]
  },
  {
   "cell_type": "code",
   "execution_count": 6,
   "id": "eafcd853",
   "metadata": {},
   "outputs": [],
   "source": [
    "import numpy as np\n",
    "import pandas as pd\n",
    "import csv"
   ]
  },
  {
   "cell_type": "markdown",
   "id": "462db96a",
   "metadata": {},
   "source": [
    "# Part 1. Confirm datasets are ready to go. \n",
    "\n",
    "Confirm that the files below are there:  \n",
    "./data/PopulationEstimates.csv   \n",
    "./data/States_by_region.csv  \n",
    "./data/us_cities_by_state_SEPT2023.csv  \n",
    "\n",
    "#### Step 1A: Read in ./data/PopulationEstimates.csv as csv object.\n",
    "    ##### Step 1A1: Store only state and population data from csv into list for just states. \n",
    "    ####  Step 1A2: Output first, middle, and last row of csv object to confirm data is in memory. \n",
    "#### Step 1B: Read in ./data/States_by_region.csv as csv object.\n",
    "    ##### Step 1B1: Store all data from csv into list. \n",
    "    ##### Step 1B2: Remove header row from list to prevent it showing up later.    \n",
    "    ##### Step 1B3: Output first, middle, and last row of csv object to confirm data is in memory. \n",
    "#### Step 1C: Read in ./data/us_cities_by_state_SEPT2023.csv as csv object.\n",
    "    ##### Step 1C1: Store all data from csv into list. \n",
    "    ##### Step 1C2: Remove header row from list to prevent it showing up later.    \n",
    "    ##### Step 1C3: Output first, middle, and last row of csv object to confirm data is in memory. \n",
    "\n",
    "### Data sources: \n",
    "##### ./data/PopulationEstimates.csv  \n",
    "https://www2.census.gov/programs-surveys/popest/datasets/2020-2022/state/totals/NST-EST2022-ALLDATA.csv    \n",
    "https://www.census.gov/data/tables/time-series/demo/popest/2020s-state-total.html  \n",
    "##### ./data/States_by_region.csv    \n",
    "The shared google drive for Homework 2 by UW Data 512 provides this file.   \n",
    "##### ./data/us_cities_by_state_SEPT2023.csv  \n",
    "The shared google drive for Homework 2 by UW data 512 provies this file.   \n",
    "However the Wikipedia Category:Lists of cities in the United States by   \n",
    "state was crawled to generate a list of Wikipedia article pages about US  \n",
    "cities from each state.   \n"
   ]
  },
  {
   "cell_type": "code",
   "execution_count": 75,
   "id": "d9c5842f",
   "metadata": {},
   "outputs": [
    {
     "name": "stdout",
     "output_type": "stream",
     "text": [
      "Number of states, should be 50: 50\n",
      "['Alabama', '5074296']\n",
      "['Montana', '1122867']\n",
      "['Wyoming', '581381']\n"
     ]
    }
   ],
   "source": [
    "# Step 1A: Read in ./data/PopulationEstimates.csv as csv object.\n",
    "StatePopEstimates = []\n",
    "with open('../data/PopulationEstimates.csv', newline='') as csvfile:\n",
    "    reader = csv.reader(csvfile, delimiter=',', quotechar='\"')\n",
    "    \n",
    "    # Step 1A1: Store only state and population data from csv into list for just states. \n",
    "    #  This means excluding the first 15 and the last rows, which correspond to \n",
    "    #  the header row, larger regions of the United States, and Puerto Rico, which are not states. \n",
    "    counter = 0\n",
    "    for row in reader: \n",
    "        if(counter > 14 and counter < 66):\n",
    "            StatePopEstimates.append([row[4], row[8]]) \n",
    "        counter += 1\n",
    "        \n",
    "# 1A1: Remove district of columbia\n",
    "StatePopEstimates.pop(8)\n",
    "        \n",
    "# Step 1A2: Output first, middle, and last row of csv object to confirm data is in memory.  \n",
    "print(\"Number of states, should be 50:\", len(StatePopEstimates))\n",
    "print(StatePopEstimates[0])\n",
    "print(StatePopEstimates[len(StatePopEstimates)//2])\n",
    "print(StatePopEstimates[len(StatePopEstimates)-1])"
   ]
  },
  {
   "cell_type": "code",
   "execution_count": 76,
   "id": "85e654d0",
   "metadata": {},
   "outputs": [
    {
     "name": "stdout",
     "output_type": "stream",
     "text": [
      "Number of states, should be 50: 50\n",
      "['Northeast', 'New England', 'Connecticut']\n",
      "['South', 'South Atlantic', 'North Carolina']\n",
      "['West', 'Pacific', 'Washington']\n"
     ]
    }
   ],
   "source": [
    "# Step 1B: Read in ./data/States_by_region.csv as csv object.\n",
    "StateRegions = []\n",
    "with open('../data/States_by_region.csv', newline='') as csvfile:\n",
    "    reader = csv.reader(csvfile, delimiter=',', quotechar='\"')\n",
    "    \n",
    "    # Step 1B1: Store all data from csv into list. \n",
    "    for row in reader: \n",
    "        StateRegions.append([row[0], row[1], row[2]]) \n",
    "\n",
    "# Step 1B2: Remove header row\n",
    "StateRegions.pop(0)\n",
    "\n",
    "# Step 1B3: Output first, middle, and last row of csv object to confirm data is in memory.\n",
    "print(\"Number of states, should be 50:\", len(StateRegions))\n",
    "print(StateRegions[0])\n",
    "print(StateRegions[len(StateRegions)//2])\n",
    "print(StateRegions[len(StateRegions)-1])"
   ]
  },
  {
   "cell_type": "code",
   "execution_count": 77,
   "id": "33f28369",
   "metadata": {},
   "outputs": [
    {
     "name": "stdout",
     "output_type": "stream",
     "text": [
      "['Alabama', 'Abbeville, Alabama', 'https://en.wikipedia.org/wiki/Abbeville,_Alabama']\n",
      "['Minnesota', 'Sargeant, Minnesota', 'https://en.wikipedia.org/wiki/Sargeant,_Minnesota']\n",
      "['Wyoming', 'Yoder, Wyoming', 'https://en.wikipedia.org/wiki/Yoder,_Wyoming']\n"
     ]
    }
   ],
   "source": [
    "#### Step 1C: Read in ./data/us_cities_by_state_SEPT2023.csv as csv object.\n",
    "CityArticles = []\n",
    "with open('../data/us_cities_by_state_SEPT2023.csv', newline='', encoding=\"utf8\") as csvfile:\n",
    "    reader = csv.reader(csvfile, delimiter=',', quotechar='\"')\n",
    "    \n",
    "    # Step 1C1: Store all data from csv into list. \n",
    "    for row in reader: \n",
    "        CityArticles.append([row[0], row[1], row[2]]) \n",
    "\n",
    "# Step 1C2: Remove header row\n",
    "CityArticles.pop(0)\n",
    "\n",
    "# Step 1C3: Output first, middle, and last row of csv object to confirm data is in memory.\n",
    "print(CityArticles[0])\n",
    "print(CityArticles[len(CityArticles)//2])\n",
    "print(CityArticles[len(CityArticles)-1])"
   ]
  },
  {
   "cell_type": "markdown",
   "id": "ce4c8d0a",
   "metadata": {},
   "source": [
    "# Part 2. Get Article Quality Predictions"
   ]
  },
  {
   "cell_type": "code",
   "execution_count": null,
   "id": "16bab880",
   "metadata": {},
   "outputs": [],
   "source": []
  }
 ],
 "metadata": {
  "kernelspec": {
   "display_name": "Python 3 (ipykernel)",
   "language": "python",
   "name": "python3"
  },
  "language_info": {
   "codemirror_mode": {
    "name": "ipython",
    "version": 3
   },
   "file_extension": ".py",
   "mimetype": "text/x-python",
   "name": "python",
   "nbconvert_exporter": "python",
   "pygments_lexer": "ipython3",
   "version": "3.9.0"
  }
 },
 "nbformat": 4,
 "nbformat_minor": 5
}
