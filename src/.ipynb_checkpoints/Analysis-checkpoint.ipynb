{
 "cells": [
  {
   "cell_type": "markdown",
   "id": "e8cb5f1a",
   "metadata": {},
   "source": [
    "# This notebook serves as the executable software that reads in datasets, combines datasets, and runs data analysis\n",
    "\n",
    "The end goal is to perform analysis on how the coverage of US cities on wikipedia and how the quality of articles about cities varies among states. \n",
    "\n",
    "Steps: \n",
    "1. Confirm datasets are ready to go.\n",
    "1. Combine dataset of wikipedia articles with a dataset of state populations\n",
    "2. Use ORES to estiamte quality of articles about the cities\n",
    "3. Data analyis\n",
    "   3a. The states with the greatest and least coverage of cities on Wikipedia compared  \n",
    "       to their population.\n",
    "   3b. The states with the highest and lowest proportion of high quality articles about cities.\n",
    "   3c. A ranking of US geographic regions by articles-per-person and proportion of high \n",
    "       quality articles.\n",
    "\n"
   ]
  },
  {
   "cell_type": "markdown",
   "id": "a58338a1",
   "metadata": {},
   "source": [
    "# Import packages"
   ]
  },
  {
   "cell_type": "code",
   "execution_count": 9,
   "id": "93e982e1",
   "metadata": {},
   "outputs": [],
   "source": [
    "import numpy as np\n",
    "import pandas as pd\n",
    "import csv\n",
    "import json\n",
    "import time\n",
    "import urllib.parse\n",
    "import requests\n",
    "import base64\n",
    "from tqdm import tqdm"
   ]
  },
  {
   "cell_type": "markdown",
   "id": "ad4be49d",
   "metadata": {},
   "source": [
    "# Part 1. Confirm datasets are ready to go. \n",
    "\n",
    "Confirm that the files below are there:  \n",
    "./data/PopulationEstimates.csv   \n",
    "./data/States_by_region.csv  \n",
    "./data/us_cities_by_state_SEPT2023.csv  \n",
    "\n",
    "#### Step 1A: Read in ./data/PopulationEstimates.csv as csv object.\n",
    "    ##### Step 1A1: Store only state and population data from csv into list for just states. \n",
    "    ####  Step 1A2: Output first, middle, and last row of csv object to confirm data is in memory. \n",
    "#### Step 1B: Read in ./data/States_by_region.csv as csv object.\n",
    "    ##### Step 1B1: Store all data from csv into list. \n",
    "    ##### Step 1B2: Remove header row from list to prevent it showing up later.    \n",
    "    ##### Step 1B3: Output first, middle, and last row of csv object to confirm data is in memory. \n",
    "#### Step 1C: Read in ./data/us_cities_by_state_SEPT2023.csv as csv object.\n",
    "    ##### Step 1C1: Store all data from csv into list. \n",
    "    ##### Step 1C2: Remove header row from list to prevent it showing up later.    \n",
    "    ##### Step 1C3: Output first, middle, and last row of csv object to confirm data is in memory. \n",
    "\n",
    "### Data sources: \n",
    "##### ./data/PopulationEstimates.csv  \n",
    "https://www2.census.gov/programs-surveys/popest/datasets/2020-2022/state/totals/NST-EST2022-ALLDATA.csv    \n",
    "https://www.census.gov/data/tables/time-series/demo/popest/2020s-state-total.html  \n",
    "##### ./data/States_by_region.csv    \n",
    "The shared google drive for Homework 2 by UW Data 512 provides this file.   \n",
    "##### ./data/us_cities_by_state_SEPT2023.csv  \n",
    "The shared google drive for Homework 2 by UW data 512 provies this file.   \n",
    "However the Wikipedia Category:Lists of cities in the United States by   \n",
    "state was crawled to generate a list of Wikipedia article pages about US  \n",
    "cities from each state.   \n"
   ]
  },
  {
   "cell_type": "code",
   "execution_count": 2,
   "id": "d5c5d64d",
   "metadata": {},
   "outputs": [
    {
     "name": "stdout",
     "output_type": "stream",
     "text": [
      "Number of states, should be 50: 50\n",
      "['Alabama', '5074296']\n",
      "['Montana', '1122867']\n",
      "['Wyoming', '581381']\n"
     ]
    }
   ],
   "source": [
    "# Step 1A: Read in ./data/PopulationEstimates.csv as csv object.\n",
    "StatePopEstimates = []\n",
    "with open('../data/PopulationEstimates.csv', newline='') as csvfile:\n",
    "    reader = csv.reader(csvfile, delimiter=',', quotechar='\"')\n",
    "    \n",
    "    # Step 1A1: Store only state and population data from csv into list for just states. \n",
    "    #  This means excluding the first 15 and the last rows, which correspond to \n",
    "    #  the header row, larger regions of the United States, and Puerto Rico, which are not states. \n",
    "    counter = 0\n",
    "    for row in reader: \n",
    "        if(counter > 14 and counter < 66):\n",
    "            StatePopEstimates.append([row[4], row[8]]) \n",
    "        counter += 1\n",
    "        \n",
    "# 1A1: Remove district of columbia\n",
    "StatePopEstimates.pop(8)\n",
    "        \n",
    "# Step 1A2: Output first, middle, and last row of csv object to confirm data is in memory.  \n",
    "print(\"Number of states, should be 50:\", len(StatePopEstimates))\n",
    "print(StatePopEstimates[0])\n",
    "print(StatePopEstimates[len(StatePopEstimates)//2])\n",
    "print(StatePopEstimates[len(StatePopEstimates)-1])"
   ]
  },
  {
   "cell_type": "code",
   "execution_count": 3,
   "id": "f898615d",
   "metadata": {},
   "outputs": [
    {
     "name": "stdout",
     "output_type": "stream",
     "text": [
      "Number of states, should be 50: 50\n",
      "['Northeast', 'New England', 'Connecticut']\n",
      "['South', 'South Atlantic', 'North Carolina']\n",
      "['West', 'Pacific', 'Washington']\n"
     ]
    }
   ],
   "source": [
    "# Step 1B: Read in ./data/States_by_region.csv as csv object.\n",
    "StateRegions = []\n",
    "with open('../data/States_by_region.csv', newline='') as csvfile:\n",
    "    reader = csv.reader(csvfile, delimiter=',', quotechar='\"')\n",
    "    \n",
    "    # Step 1B1: Store all data from csv into list. \n",
    "    for row in reader: \n",
    "        StateRegions.append([row[0], row[1], row[2]]) \n",
    "\n",
    "# Step 1B2: Remove header row\n",
    "StateRegions.pop(0)\n",
    "\n",
    "# Step 1B3: Output first, middle, and last row of csv object to confirm data is in memory.\n",
    "print(\"Number of states, should be 50:\", len(StateRegions))\n",
    "print(StateRegions[0])\n",
    "print(StateRegions[len(StateRegions)//2])\n",
    "print(StateRegions[len(StateRegions)-1])"
   ]
  },
  {
   "cell_type": "code",
   "execution_count": 4,
   "id": "965aa98e",
   "metadata": {},
   "outputs": [
    {
     "name": "stdout",
     "output_type": "stream",
     "text": [
      "['Alabama', 'Abbeville, Alabama', 'https://en.wikipedia.org/wiki/Abbeville,_Alabama']\n",
      "['Minnesota', 'Sargeant, Minnesota', 'https://en.wikipedia.org/wiki/Sargeant,_Minnesota']\n",
      "['Wyoming', 'Yoder, Wyoming', 'https://en.wikipedia.org/wiki/Yoder,_Wyoming']\n"
     ]
    }
   ],
   "source": [
    "#### Step 1C: Read in ./data/us_cities_by_state_SEPT2023.csv as csv object.\n",
    "CityArticles = []\n",
    "with open('../data/us_cities_by_state_SEPT2023.csv', newline='', encoding=\"utf8\") as csvfile:\n",
    "    reader = csv.reader(csvfile, delimiter=',', quotechar='\"')\n",
    "    \n",
    "    # Step 1C1: Store all data from csv into list. \n",
    "    for row in reader: \n",
    "        CityArticles.append([row[0], row[1], row[2]]) \n",
    "\n",
    "# Step 1C2: Remove header row\n",
    "CityArticles.pop(0)\n",
    "\n",
    "# Step 1C3: Output first, middle, and last row of csv object to confirm data is in memory.\n",
    "print(CityArticles[0])\n",
    "print(CityArticles[len(CityArticles)//2])\n",
    "print(CityArticles[len(CityArticles)-1])"
   ]
  },
  {
   "cell_type": "markdown",
   "id": "10d66c92",
   "metadata": {},
   "source": [
    "# Part 2. Get Article Quality Predictions\n",
    "We're using a machine learning system called ORES. This was originally an acronym for \"Objective Revision Evaluation Service\" but was simply renamed “ORES”. ORES is a machine learning tool that can provide estimates of Wikipedia article quality. The article quality estimates are, from best to worst:\n",
    "FA - Featured article\n",
    "GA - Good article (sometimes called A-class)\n",
    "B - B-class article\n",
    "C - C-class article\n",
    "Start - Start-class article\n",
    "Stub - Stub-class article\n",
    "These labelings were learned based on articles in Wikipedia that were peer-reviewed using the Wikipedia content assessment procedures.These quality classes are a subset of quality assessment categories developed by Wikipedia editors.\n",
    "\n",
    "#### Step 2A: Create wikimedia user account to generate API token. \n",
    "    ##### Step 2A1: Create account here: https://api.wikimedia.org/w/index.php?title=Special:UserLogin \n",
    "    ##### Step 2A2: Then go here to create token: https://api.wikimedia.org/wiki/Special:AppManagement\n",
    "    ##### Step 2A3: Click Create key, choosen personal API token, checkmark all permsissions\n",
    "#### Step 2B: Define constants/functions to make data requests.\n",
    "    ##### Step 2B1: Create function to load in credentials from text file which is not allowed to be pushed to the repo.\n",
    "    ##### Step 2B2: Define functions and constants for pageinfo API. \n",
    "    ##### Step 2B3: Define functions and constants for ORES API. \n",
    "#### Step 2C: Load in credentials\n",
    "#### Step 2D: Get ORES score for each city article. \n",
    "    ##### Step 2D1: Read each line of us_cities_by_state_SEPT.2023.csv\n",
    "    ##### Step 2D2: Make a page info request to get the current article page revision\n",
    "    ##### Step 2D3: Make an ORES request using the page title and current revision id.\n",
    "    ##### Step 2D4: Store score predictions if possible, else print out failures. "
   ]
  },
  {
   "cell_type": "code",
   "execution_count": 5,
   "id": "65288960",
   "metadata": {},
   "outputs": [
    {
     "name": "stdout",
     "output_type": "stream",
     "text": [
      "Credentials loaded successfully:\n"
     ]
    }
   ],
   "source": [
    "# Step 2B1: Create function to load in credentials from text file which is not allowed to be pushed to the repository.\n",
    "def load_credentials_from_file(filename):\n",
    "    '''\n",
    "    Description:\n",
    "        Given a text file with six lines, where the second, fourth, and sixth lines are\n",
    "        respectively client id, client secret acess token, and acess token, reads the text file\n",
    "        and loads those lines into memory as variables. \n",
    "    Inputs:\n",
    "        filename - String - Path of file\n",
    "    Outputs:\n",
    "        client_id - String\n",
    "        client_secret - String\n",
    "        access_token - String\n",
    "    Notes:\n",
    "        This function below was generated by chatGPT. https://chat.openai.com/ \n",
    "        Prompt used:\n",
    "            \"Given a text file with 6 lines, where the 2nd, 4th, and 6th lines \n",
    "             are a client id, client secret access token, and access token,\n",
    "             give me a python function that that reads in a text file and loads \n",
    "             those lines into memory as variables. Make sure to close the file.\"\n",
    "        Why: \n",
    "            Wanted to save time, knew how to explain the problem, simple code to generate.\n",
    "    '''\n",
    "    try:\n",
    "        with open(filename, 'r') as file:\n",
    "            lines = file.readlines()\n",
    "        if len(lines) >= 6:\n",
    "            client_id = lines[1].strip()\n",
    "            client_secret = lines[3].strip()\n",
    "            access_token = lines[5].strip()\n",
    "            return client_id, client_secret, access_token\n",
    "        else:\n",
    "            print(\"Error: The file does not contain enough lines.\")\n",
    "            return None, None, None\n",
    "    except FileNotFoundError:\n",
    "        print(f\"Error: File '{filename}' not found.\")\n",
    "        return None, None, None\n",
    "    except Exception as e:\n",
    "        print(f\"Error: An unexpected error occurred - {e}\")\n",
    "        return None, None, None"
   ]
  },
  {
   "cell_type": "code",
   "execution_count": 17,
   "id": "cd642f4e",
   "metadata": {},
   "outputs": [],
   "source": [
    "# Step 2B2: Define functions and constants for pageinfo API. \n",
    "\n",
    "# The code in this cell was developed by Dr. David W. McDonald for use in DATA 512, \n",
    "# a course in the UW MS Data Science degree program. \n",
    "# This code is provided under the Creative Commons CC-BY license. Revision 1.1 - August 14, 2022\n",
    "# Any modifications made to the original source also fall under the CC-BY license. \n",
    "\n",
    "#    The throttling rate is a function of the Access token that you are granted when you request the token. The constants\n",
    "#    come from dissecting the token and getting the rate limits from the granted token. \n",
    "API_LATENCY_ASSUMED = 0.002       # Assuming roughly 2ms latency on the API and network\n",
    "API_THROTTLE_WAIT = (60.0/5000.0)-API_LATENCY_ASSUMED\n",
    "\n",
    "# The basic English Wikipedia API endpoint\n",
    "API_ENWIKIPEDIA_ENDPOINT = \"https://en.wikipedia.org/w/api.php\"\n",
    "\n",
    "# When making automated requests we should include something that is unique to the person making the request\n",
    "REQUEST_HEADERS = {\n",
    "    'User-Agent': '<uwnetid@uw.edu>, University of Washington, MSDS DATA 512 - AUTUMN 2023',\n",
    "}\n",
    "\n",
    "# This is a string of additional page properties that can be returned see the Info documentation for what can be included.\n",
    "PAGEINFO_EXTENDED_PROPERTIES = \"talkid|url|watched|watchers\"\n",
    "\n",
    "# This template lists the basic parameters for making this\n",
    "PAGEINFO_PARAMS_TEMPLATE = { \"action\": \"query\", \"format\": \"json\", \"titles\": \"\", \"prop\": \"info\",\n",
    "                            \"inprop\": PAGEINFO_EXTENDED_PROPERTIES\n",
    "}\n",
    "\n",
    "def request_pageinfo_per_article(article_title = None, \n",
    "                                 endpoint_url = API_ENWIKIPEDIA_ENDPOINT, \n",
    "                                 request_template = PAGEINFO_PARAMS_TEMPLATE,\n",
    "                                 headers = REQUEST_HEADERS):\n",
    "    '''\n",
    "    Description:\n",
    "        Make request to endpoint with supplied arguments.\n",
    "    Inputs:\n",
    "        article_title - String\n",
    "        endpoint_url - String\n",
    "        request_template - Dictionary\n",
    "        headers - Dictionary\n",
    "    Output:\n",
    "        Dictionary\n",
    "    '''\n",
    "    \n",
    "    # article title can be as a parameter to the call or in the request_template\n",
    "    if article_title:\n",
    "        request_template['titles'] = article_title\n",
    "\n",
    "    if not request_template['titles']:\n",
    "        raise Exception(\"Must supply an article title to make a pageinfo request.\")\n",
    "\n",
    "    # make the request\n",
    "    try:\n",
    "        # we'll wait first, to make sure we don't exceed the limit in the situation where an exception\n",
    "        # occurs during the request processing - throttling is always a good practice with a free\n",
    "        # data source like Wikipedia - or any other community sources\n",
    "        if API_THROTTLE_WAIT > 0.0:\n",
    "            time.sleep(API_THROTTLE_WAIT)\n",
    "        response = requests.get(endpoint_url, headers=headers, params=request_template)\n",
    "        json_response = response.json()\n",
    "    except Exception as e:\n",
    "        print(e)\n",
    "        json_response = None\n",
    "    return json_response"
   ]
  },
  {
   "cell_type": "code",
   "execution_count": null,
   "id": "ca65e054",
   "metadata": {},
   "outputs": [],
   "source": [
    "# Step 2B3: Define functions and constants for ORES API. \n",
    "\n",
    "# The code in this cell was developed by Dr. David W. McDonald for use in DATA 512, \n",
    "# a course in the UW MS Data Science degree program. \n",
    "# This code is provided under the Creative Commons CC-BY license. Revision 1.1 - August 15, 2023\n",
    "# Any modifications made to the original source also fall under the CC-BY license. \n",
    "\n",
    "#    The current LiftWing ORES API endpoint and prediction model\n",
    "API_ORES_LIFTWING_ENDPOINT = \"https://api.wikimedia.org/service/lw/inference/v1/models/{model_name}:predict\"\n",
    "API_ORES_EN_QUALITY_MODEL = \"enwiki-articlequality\"\n",
    "\n",
    "#    When making automated requests we should include something that is unique to the person making the request\n",
    "#    This should include an email - your UW email would be good to put in there\n",
    "#    \n",
    "#    Because all LiftWing API requests require some form of authentication, you need to provide your access token\n",
    "#    as part of the header too\n",
    "REQUEST_HEADER_TEMPLATE = {\n",
    "    'User-Agent': \"<zbowyer@uw.edu>, University of Washington, MSDS DATA 512 - AUTUMN 2023\",\n",
    "    'Content-Type': 'application/json',\n",
    "    'Authorization': \"Bearer )\" + str(access_token)\n",
    "}\n",
    "\n",
    "#    This is a template for the parameters that we need to supply in the headers of an API request\n",
    "REQUEST_HEADER_PARAMS_TEMPLATE = {\n",
    "    'email_address' : \"zbowyer@uw.edu\",         # your email address should go here\n",
    "    'access_token'  : access_token          # the access token you create will need to go here\n",
    "}\n",
    "\n",
    "#    This is a template of the data required as a payload when making a scoring request of the ORES model\n",
    "ORES_REQUEST_DATA_TEMPLATE = {\n",
    "    \"lang\":        \"en\",     # required that its english - we're scoring English Wikipedia revisions\n",
    "    \"rev_id\":      \"\",       # this request requires a revision id\n",
    "    \"features\":    True\n",
    "}\n",
    "\n",
    "def request_ores_score_per_article(article_revid = None, email_address=None, access_token=None,\n",
    "                                   endpoint_url = API_ORES_LIFTWING_ENDPOINT, \n",
    "                                   model_name = API_ORES_EN_QUALITY_MODEL, \n",
    "                                   request_data = ORES_REQUEST_DATA_TEMPLATE, \n",
    "                                   header_format = REQUEST_HEADER_TEMPLATE, \n",
    "                                   header_params = REQUEST_HEADER_PARAMS_TEMPLATE):\n",
    "    '''\n",
    "    Description:\n",
    "        Attempts to get ORES score from API call with supplied arguments.\n",
    "    Inputs:\n",
    "        article_revid - Integer\n",
    "        email_address - String\n",
    "        access_token - String\n",
    "        endpoint_url - String\n",
    "        model_name - String\n",
    "        request_data - Dictionary\n",
    "        header_format - Dictionary\n",
    "        header_params - Dictionary\n",
    "    Output:\n",
    "        Dictionary\n",
    "    '''\n",
    "    \n",
    "    # Make sure we have an article revision id, email and token\n",
    "    # This approach prioritizes the parameters passed in when making the call\n",
    "    if article_revid: request_data['rev_id'] = article_revid\n",
    "    if email_address: header_params['email_address'] = email_address\n",
    "    if access_token: header_params['access_token'] = access_token\n",
    "    \n",
    "    # Making a request requires a revision id - an email address - and the access token\n",
    "    if not request_data['rev_id']: raise Exception(\"Must provide an article revision id (rev_id) to score articles\")\n",
    "    if not header_params['email_address']: raise Exception(\"Must provide an 'email_address' value\")\n",
    "    if not header_params['access_token']: raise Exception(\"Must provide an 'access_token' value\")\n",
    "    \n",
    "    # Create the request URL with the specified model parameter - default is a article quality score request\n",
    "    request_url = endpoint_url.format(model_name=model_name)\n",
    "    \n",
    "    # Create a compliant request header from the template and the supplied parameters\n",
    "    headers = dict()\n",
    "    for key in header_format.keys():\n",
    "        headers[str(key)] = header_format[key].format(**header_params)\n",
    "\n",
    "    # make the request\n",
    "    try:\n",
    "        # we'll wait first, to make sure we don't exceed the limit in the situation where an exception\n",
    "        # occurs during the request processing - throttling is always a good practice with a free data\n",
    "        # source like ORES - or other community sources\n",
    "        if API_THROTTLE_WAIT > 0.0:\n",
    "            time.sleep(API_THROTTLE_WAIT)\n",
    "        #response = requests.get(request_url, headers=headers)\n",
    "        #print(request_url, headers, request_data)\n",
    "        response = requests.post(request_url, headers=headers, data=json.dumps(request_data))\n",
    "        json_response = response.json()\n",
    "    except Exception as e:\n",
    "        print(\"Exception\", e)\n",
    "        json_response = None\n",
    "    return json_response"
   ]
  },
  {
   "cell_type": "code",
   "execution_count": null,
   "id": "0c3999d4",
   "metadata": {},
   "outputs": [],
   "source": [
    "# Step 2C: Load in credentials\n",
    "filename = '../auth.txt'\n",
    "client_id, client_secret, access_token = load_credentials_from_file(filename)\n",
    "\n",
    "if client_id is not None and client_secret is not None and access_token is not None:\n",
    "    print(\"Credentials loaded successfully:\")\n",
    "else:\n",
    "    print(\"Failed to load credentials.\")"
   ]
  },
  {
   "cell_type": "code",
   "execution_count": null,
   "id": "8e8bd7f1",
   "metadata": {},
   "outputs": [
    {
     "name": "stderr",
     "output_type": "stream",
     "text": [
      " 34%|████████████████████████████████▉                                                               | 7599/22157 [1:40:00<3:38:21,  1.11it/s]"
     ]
    },
    {
     "name": "stdout",
     "output_type": "stream",
     "text": [
      "Exception Expecting value: line 1 column 1 (char 0)\n",
      "Could not find result for Chester, Maine\n"
     ]
    },
    {
     "name": "stderr",
     "output_type": "stream",
     "text": [
      " 40%|██████████████████████████████████████▏                                                         | 8815/22157 [1:56:07<3:07:14,  1.19it/s]"
     ]
    },
    {
     "name": "stdout",
     "output_type": "stream",
     "text": [
      "Exception Expecting value: line 1 column 1 (char 0)\n",
      "Could not find result for Champion Township, Michigan\n"
     ]
    },
    {
     "name": "stderr",
     "output_type": "stream",
     "text": [
      " 97%|█████████████████████████████████████████████████████████████████████████████████████████████▊   | 21443/22157 [4:44:01<09:34,  1.24it/s]"
     ]
    }
   ],
   "source": [
    "# Step 2D: Get ORES score for each city article. \n",
    "# Step 2D1: Read each line of us_cities_by_state_SEPT.2023.csv\n",
    "for i in tqdm(range(len(CityArticles))):\n",
    "    article_title = CityArticles[i][1]\n",
    "    article_url = CityArticles[i][2]\n",
    "    \n",
    "    # Step 2D2: Make a page info request to get the current article page revision\n",
    "    PageData = request_pageinfo_per_article(article_title)\n",
    "    pageid = list(PageData[\"query\"][\"pages\"].keys())[0]\n",
    "    revid = int(PageData[\"query\"][\"pages\"][pageid][\"lastrevid\"])\n",
    "    article_dict = {article_title: revid}\n",
    "    \n",
    "    # Step 2D3: Make an ORES request using the page title and current revision id.\n",
    "    score = request_ores_score_per_article(article_revid=revid, email_address=\"zbowyer@uw.edu\", access_token=access_token)\n",
    "    \n",
    "    # Step 2D4: Store score predictions if possible, else print out failures. \n",
    "    try:\n",
    "        ORES_prediction = score[\"enwiki\"][\"scores\"][str(revid)][\"articlequality\"][\"score\"][\"prediction\"]\n",
    "        CityArticles[i].append(ORES_prediction)\n",
    "    except:\n",
    "        print(\"Could not find result for\", article_title)\n",
    "        CityArticles[i].append(\"N/A\")\n",
    "        #print(article_title, \":\", ORES_prediction)"
   ]
  },
  {
   "cell_type": "markdown",
   "id": "975dcf74",
   "metadata": {},
   "source": [
    "# Step 3: Combine datasets\n",
    "\n",
    "The goal here is to merge the wikipedia data and population data together.   \n",
    "This can be done because both datasets have state name fields.  \n",
    "Additionally regional-devisions must be added, so a third dataset will be combined.  \n",
    "\n",
    "All data with no matches should be logged.  \n",
    "\n",
    "#### Step 3A: ?"
   ]
  },
  {
   "cell_type": "code",
   "execution_count": null,
   "id": "a4bbb846",
   "metadata": {},
   "outputs": [],
   "source": [
    "CityArticles_dataframe = pd.DataFrame(CityArticles, columns = ['state', 'page_title', 'url', 'score'])\n",
    "CityArticles_dataframe.to_csv(\"../data/CityArticles_withscores.csv\")  "
   ]
  },
  {
   "cell_type": "markdown",
   "id": "c1149198",
   "metadata": {},
   "source": [
    "# Step 4: Analysis\n",
    "\n",
    "The goal here is to calculate metrics for our dataset. \n",
    "\n",
    "### For each state, and each division:\n",
    "    Total-articles-per-population (number of articles per person)  \n",
    "    High quality articles per population (number of high quality articles per person) (FA OR GA)    "
   ]
  },
  {
   "cell_type": "code",
   "execution_count": null,
   "id": "8094a481",
   "metadata": {},
   "outputs": [],
   "source": []
  },
  {
   "cell_type": "markdown",
   "id": "9370e8fe",
   "metadata": {},
   "source": [
    "# Step 5: Results\n",
    "\n",
    "#### The goal here is to produce six tables that show:\n",
    "Top 10 US states by coverage: The 10 US states with the highest total articles per capita (in descending order).  \n",
    "Bottom 10 US states by coverage: The 10 US states with the lowest total articles per capita (in ascending order).  \n",
    "Top 10 US states by high quality: The 10 US states with the highest high quality articles per capita (in descending order).  \n",
    "Bottom 10 US states by high quality: The 10 US states with the lowest high quality articles per capita (in ascending order).  \n",
    "Census divisions by total coverage: A rank ordered list of US census divisions (in descending order) by total articles per capita.  \n",
    "Census divisions by high quality coverage: Rank ordered list of US census divisions (in descending order) by high quality articles per capita.  \n"
   ]
  },
  {
   "cell_type": "code",
   "execution_count": null,
   "id": "d0b55035",
   "metadata": {},
   "outputs": [],
   "source": []
  }
 ],
 "metadata": {
  "kernelspec": {
   "display_name": "Python 3 (ipykernel)",
   "language": "python",
   "name": "python3"
  },
  "language_info": {
   "codemirror_mode": {
    "name": "ipython",
    "version": 3
   },
   "file_extension": ".py",
   "mimetype": "text/x-python",
   "name": "python",
   "nbconvert_exporter": "python",
   "pygments_lexer": "ipython3",
   "version": "3.9.0"
  }
 },
 "nbformat": 4,
 "nbformat_minor": 5
}
